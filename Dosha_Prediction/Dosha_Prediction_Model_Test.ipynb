{
 "cells": [
  {
   "cell_type": "markdown",
   "id": "8c807d75-51b0-45f6-888d-9f74f4bf5df2",
   "metadata": {},
   "source": [
    "## Load the pickle file"
   ]
  },
  {
   "cell_type": "code",
   "execution_count": 1,
   "id": "2d8322c4-6dc2-4ce0-b8fd-0410ff0d1ac9",
   "metadata": {},
   "outputs": [
    {
     "name": "stdout",
     "output_type": "stream",
     "text": [
      "Model loaded successfully!\n"
     ]
    }
   ],
   "source": [
    "import pickle\n",
    "import pandas as pd\n",
    "\n",
    "# Load the saved model from the pickle file\n",
    "with open('Dosha_Prediction_Model.pkl', 'rb') as file:\n",
    "    loaded_model = pickle.load(file)\n",
    "\n",
    "print(\"Model loaded successfully!\")"
   ]
  },
  {
   "cell_type": "markdown",
   "id": "697e1b20-7860-4cca-9c88-9f71edbec9e8",
   "metadata": {},
   "source": [
    "## Load the Encoder"
   ]
  },
  {
   "cell_type": "code",
   "execution_count": 2,
   "id": "7a6f9563-3ec9-4220-a95a-a1e4c3d88cad",
   "metadata": {},
   "outputs": [
    {
     "name": "stdout",
     "output_type": "stream",
     "text": [
      "LabelEncoder loaded successfully!\n"
     ]
    }
   ],
   "source": [
    "# Load the saved LabelEncoder\n",
    "with open('Dosha_LabelEncoder.pkl', 'rb') as file:\n",
    "    loaded_le = pickle.load(file)\n",
    "\n",
    "print(\"LabelEncoder loaded successfully!\")"
   ]
  },
  {
   "cell_type": "markdown",
   "id": "e257ded6-8a3f-48ab-9813-730fdfe4c5d9",
   "metadata": {},
   "source": [
    "## Input Data"
   ]
  },
  {
   "cell_type": "code",
   "execution_count": 3,
   "id": "4d9b49d8-67b6-4303-90bf-60087a507c81",
   "metadata": {},
   "outputs": [],
   "source": [
    "# List of all possible symptoms (same as features used during training)\n",
    "all_symptoms = ['Sneezing', 'Runny_Nose', 'Headache', 'High Fever', 'Bodyache', 'Blocked_Nose', 'Tonsils', 'Throught_Iritation', 'Fatigue', 'Less_of_appetite', 'Eye Redness', 'Lethargy', 'Dry_Cough', 'Vomiting', 'Nausea', 'Breath_difficulties', 'Painful_swallowing', 'Throaty_voice', 'Smelly_breath', 'Sleepiness', 'Aggressiveness', 'Neckache', 'Nervousness', 'Heavy Headness', 'Burning sensation of stomach', 'Eye_ pain', 'Light Sensitivity', 'Loose tools', 'Stomach ache', 'Constipation', 'Throught burning sensation', 'Sore anus', 'Back Pain', 'Flatulence', 'Radiation feel along legs', 'Muscles stiffnesses of legs', 'Cramps', 'Numbness of Legs and Feet', 'Knee Pain', 'Prolonged numbness', 'Excessive thirst', 'Frequent urination', 'Blurred vision', 'Slow healing of wounds', 'Unexplained weight loss', 'Dizziness', 'Chest pain', 'Chest Tightness', 'Wheezing', 'Difficulty falling asleep', 'Waking up during the night', 'Irritability', 'Difficulty concentrating', 'Joint pain', 'Morning stiffness', 'Swelling', 'Limited movement', 'Grating sound during movement', 'Warmth in the affected joints', 'Joint deformities', 'Itchy eyes and skin', 'Skin rash', 'Mild bleeding (gums, nose)', 'Itchy red spots', 'Painful urination', 'Frequent urge to urinate', 'Cloudy or strong-smelling urine', 'Pelvic pain', 'Increased Appetite', 'Sweating', 'Hair loss', 'Photosensitivity', 'Oral ulcers']\n",
    "\n",
    "# Function to create input data based on symptoms provided by the user\n",
    "def create_input_data(provided_symptoms):\n",
    "    # Create a default input row (all symptoms set to 0)\n",
    "    input_data = {symptom: 0 for symptom in all_symptoms}\n",
    "    \n",
    "    # Set the symptoms provided by the user to 1\n",
    "    for symptom in provided_symptoms:\n",
    "        if symptom in input_data:\n",
    "            input_data[symptom] = 1\n",
    "    \n",
    "    # Convert to DataFrame for model prediction\n",
    "    input_df = pd.DataFrame([input_data])\n",
    "    \n",
    "    return input_df"
   ]
  },
  {
   "cell_type": "markdown",
   "id": "abcc052b-62b9-4fc4-8b3c-626cc6691d00",
   "metadata": {},
   "source": [
    "## Make Predictions Using the Loaded Model"
   ]
  },
  {
   "cell_type": "code",
   "execution_count": 5,
   "id": "b0dcd596-b483-4e6c-a683-5f2aa03197e1",
   "metadata": {},
   "outputs": [
    {
     "name": "stdout",
     "output_type": "stream",
     "text": [
      "Predicted Dosha:  Vata, Kapha\n"
     ]
    }
   ],
   "source": [
    "# Example: User provides symptoms that are 1\n",
    "user_symptoms = ['Loose tools','Stomach ache','Wheezing','Swelling', 'Itchy eyes and skin','Skin rash','Mild bleeding (gums, nose)','Itchy red spots','Runny_Nose', 'Dry_Cough','Breath_difficulties']  # Only these symptoms are 1\n",
    "\n",
    "# Create the input data for prediction\n",
    "new_input_data = create_input_data(user_symptoms)\n",
    "\n",
    "# Make the prediction using the loaded model\n",
    "prediction = loaded_model.predict(new_input_data)\n",
    "\n",
    "# Decode the predicted risk using the LabelEncoder\n",
    "predicted_dosha = loaded_le.inverse_transform(prediction)\n",
    "\n",
    "# Print the predicted risk\n",
    "print(\"Predicted Dosha: \", predicted_dosha[0])\n"
   ]
  },
  {
   "cell_type": "code",
   "execution_count": null,
   "id": "edafba48-31a7-4a1e-b3c2-eac5ab561728",
   "metadata": {},
   "outputs": [],
   "source": []
  }
 ],
 "metadata": {
  "kernelspec": {
   "display_name": "Python 3 (ipykernel)",
   "language": "python",
   "name": "python3"
  },
  "language_info": {
   "codemirror_mode": {
    "name": "ipython",
    "version": 3
   },
   "file_extension": ".py",
   "mimetype": "text/x-python",
   "name": "python",
   "nbconvert_exporter": "python",
   "pygments_lexer": "ipython3",
   "version": "3.12.5"
  }
 },
 "nbformat": 4,
 "nbformat_minor": 5
}
